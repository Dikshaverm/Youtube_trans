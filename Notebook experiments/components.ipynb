{
 "cells": [
  {
   "cell_type": "code",
   "id": "initial_id",
   "metadata": {
    "collapsed": true,
    "ExecuteTime": {
     "end_time": "2024-08-10T13:55:44.753280Z",
     "start_time": "2024-08-10T13:55:44.738695Z"
    }
   },
   "source": [
    "from youtube_translator.download_from_yt.Mp3_download import AudioDownloader\n",
    "\n",
    "audio = AudioDownloader(url='https://youtu.be/KcTal2LF-C8?si=aBn9r4LQQMi0D8La')"
   ],
   "outputs": [],
   "execution_count": 3
  },
  {
   "metadata": {
    "ExecuteTime": {
     "end_time": "2024-08-10T13:55:48.525603Z",
     "start_time": "2024-08-10T13:55:44.755280Z"
    }
   },
   "cell_type": "code",
   "source": [
    "audio.download_audio()\n",
    "audio.audio_path()"
   ],
   "id": "c2a63f9cc6af30cd",
   "outputs": [
    {
     "name": "stdout",
     "output_type": "stream",
     "text": [
      "[youtube] Extracting URL: https://youtu.be/KcTal2LF-C8?si=aBn9r4LQQMi0D8La\n",
      "[youtube] KcTal2LF-C8: Downloading webpage\n",
      "[youtube] KcTal2LF-C8: Downloading ios player API JSON\n",
      "[youtube] KcTal2LF-C8: Downloading web creator player API JSON\n",
      "[youtube] KcTal2LF-C8: Downloading m3u8 information\n",
      "[info] KcTal2LF-C8: Downloading 1 format(s): 140\n",
      "[download] Destination: C:\\Users\\savit\\PycharmProjects\\Youtube_translator\\audio\\2024_08_10_19_24_07\n",
      "[download] 100% of    1.28MiB in 00:00:00 at 10.73MiB/s  \n",
      "[FixupM4a] Correcting container of \"C:\\Users\\savit\\PycharmProjects\\Youtube_translator\\audio\\2024_08_10_19_24_07\"\n",
      "[ExtractAudio] Destination: C:\\Users\\savit\\PycharmProjects\\Youtube_translator\\audio\\2024_08_10_19_24_07.mp3\n",
      "Deleting original file C:\\Users\\savit\\PycharmProjects\\Youtube_translator\\audio\\2024_08_10_19_24_07 (pass -k to keep)\n",
      "Actual path : C:\\Users\\savit\\PycharmProjects\\Youtube_translator\\audio\\2024_08_10_19_24_07.wav\n"
     ]
    },
    {
     "data": {
      "text/plain": [
       "WindowsPath('C:/Users/savit/PycharmProjects/Youtube_translator/audio/2024_08_10_19_24_07.wav')"
      ]
     },
     "execution_count": 4,
     "metadata": {},
     "output_type": "execute_result"
    }
   ],
   "execution_count": 4
  },
  {
   "metadata": {
    "ExecuteTime": {
     "end_time": "2024-08-10T13:55:48.541673Z",
     "start_time": "2024-08-10T13:55:48.526606Z"
    }
   },
   "cell_type": "code",
   "source": "",
   "id": "674aa94d74509408",
   "outputs": [],
   "execution_count": 4
  },
  {
   "metadata": {
    "ExecuteTime": {
     "end_time": "2024-08-10T13:55:48.557616Z",
     "start_time": "2024-08-10T13:55:48.542559Z"
    }
   },
   "cell_type": "code",
   "source": "",
   "id": "b54d4f93e1dd870c",
   "outputs": [],
   "execution_count": 4
  }
 ],
 "metadata": {
  "kernelspec": {
   "display_name": "Python 3",
   "language": "python",
   "name": "python3"
  },
  "language_info": {
   "codemirror_mode": {
    "name": "ipython",
    "version": 2
   },
   "file_extension": ".py",
   "mimetype": "text/x-python",
   "name": "python",
   "nbconvert_exporter": "python",
   "pygments_lexer": "ipython2",
   "version": "2.7.6"
  }
 },
 "nbformat": 4,
 "nbformat_minor": 5
}

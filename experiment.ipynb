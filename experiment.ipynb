{
 "cells": [
  {
   "cell_type": "code",
   "id": "initial_id",
   "metadata": {
    "collapsed": true,
    "ExecuteTime": {
     "end_time": "2024-08-08T08:41:59.468553Z",
     "start_time": "2024-08-08T08:41:59.454556Z"
    }
   },
   "source": [
    "import os\n",
    "\n",
    "os.makedirs(os.path.join(os.getcwd(), 'data'), exist_ok=True)"
   ],
   "outputs": [],
   "execution_count": 1
  },
  {
   "metadata": {
    "ExecuteTime": {
     "end_time": "2024-08-08T10:08:11.293091Z",
     "start_time": "2024-08-08T10:08:11.285063Z"
    }
   },
   "cell_type": "code",
   "source": [
    "import torch\n",
    "\n",
    "torch.cuda.is_available()"
   ],
   "id": "c66c7826b0866629",
   "outputs": [
    {
     "data": {
      "text/plain": [
       "False"
      ]
     },
     "execution_count": 11,
     "metadata": {},
     "output_type": "execute_result"
    }
   ],
   "execution_count": 11
  },
  {
   "metadata": {
    "ExecuteTime": {
     "end_time": "2024-08-08T08:41:59.483821Z",
     "start_time": "2024-08-08T08:41:59.472553Z"
    }
   },
   "cell_type": "code",
   "source": "os.getcwd()",
   "id": "c61e32f9d63db1cc",
   "outputs": [
    {
     "data": {
      "text/plain": [
       "'C:\\\\Users\\\\savit\\\\PycharmProjects\\\\Youtube_translator'"
      ]
     },
     "execution_count": 2,
     "metadata": {},
     "output_type": "execute_result"
    }
   ],
   "execution_count": 2
  },
  {
   "metadata": {
    "ExecuteTime": {
     "end_time": "2024-08-08T12:20:30.526966Z",
     "start_time": "2024-08-08T12:20:30.506818Z"
    }
   },
   "cell_type": "code",
   "source": "os.makedirs(os.path.join(os.getcwd(), 'audio'), exist_ok=True)",
   "id": "b47cf42dd998720e",
   "outputs": [],
   "execution_count": 36
  },
  {
   "metadata": {
    "ExecuteTime": {
     "end_time": "2024-08-08T10:41:07.040110Z",
     "start_time": "2024-08-08T10:41:05.643294Z"
    }
   },
   "cell_type": "code",
   "source": "",
   "id": "93f241bac53dcfd9",
   "outputs": [],
   "execution_count": 14
  },
  {
   "metadata": {
    "ExecuteTime": {
     "end_time": "2024-08-08T10:43:14.556534Z",
     "start_time": "2024-08-08T10:43:14.534084Z"
    }
   },
   "cell_type": "code",
   "source": [
    "from mysql.connector import connect\n",
    "\n",
    "conn = connect(user='root', password='diksha', host='localhost')"
   ],
   "id": "270f2193ab668978",
   "outputs": [],
   "execution_count": 18
  },
  {
   "metadata": {
    "ExecuteTime": {
     "end_time": "2024-08-08T10:43:56.250193Z",
     "start_time": "2024-08-08T10:43:56.237101Z"
    }
   },
   "cell_type": "code",
   "source": "conn.database",
   "id": "ea297b8674b7cd5a",
   "outputs": [],
   "execution_count": 21
  },
  {
   "metadata": {
    "ExecuteTime": {
     "end_time": "2024-08-08T10:45:27.267845Z",
     "start_time": "2024-08-08T10:45:27.251747Z"
    }
   },
   "cell_type": "code",
   "source": [
    "con = conn.cursor()\n",
    "\n",
    "con.execute(\"create database if not exists yt_db\")\n",
    "\n",
    "con.fetchall()\n",
    "\n",
    "conn.close()"
   ],
   "id": "440b6f6954301d7a",
   "outputs": [],
   "execution_count": 27
  },
  {
   "metadata": {
    "ExecuteTime": {
     "end_time": "2024-08-08T10:45:32.941130Z",
     "start_time": "2024-08-08T10:45:32.919615Z"
    }
   },
   "cell_type": "code",
   "source": "conn = connect(user='root', password='diksha', host='localhost', database='yt_db')",
   "id": "d784a64d62104af5",
   "outputs": [],
   "execution_count": 28
  },
  {
   "metadata": {
    "ExecuteTime": {
     "end_time": "2024-08-08T10:45:41.571617Z",
     "start_time": "2024-08-08T10:45:41.557942Z"
    }
   },
   "cell_type": "code",
   "source": "conn.database",
   "id": "2d624ad9a4ae5cfc",
   "outputs": [
    {
     "data": {
      "text/plain": [
       "'yt_db'"
      ]
     },
     "execution_count": 29,
     "metadata": {},
     "output_type": "execute_result"
    }
   ],
   "execution_count": 29
  },
  {
   "metadata": {
    "ExecuteTime": {
     "end_time": "2024-08-08T11:53:14.731292Z",
     "start_time": "2024-08-08T11:53:14.721335Z"
    }
   },
   "cell_type": "code",
   "source": "import uuid",
   "id": "154fa99fbbde2d0d",
   "outputs": [],
   "execution_count": 32
  },
  {
   "metadata": {
    "ExecuteTime": {
     "end_time": "2024-08-08T11:53:38.532594Z",
     "start_time": "2024-08-08T11:53:38.519195Z"
    }
   },
   "cell_type": "code",
   "source": "uuid.uuid1()",
   "id": "f0e656c3a76a45b4",
   "outputs": [
    {
     "data": {
      "text/plain": [
       "UUID('d981547d-557c-11ef-ad1b-74d4dd0403f2')"
      ]
     },
     "execution_count": 35,
     "metadata": {},
     "output_type": "execute_result"
    }
   ],
   "execution_count": 35
  },
  {
   "metadata": {
    "ExecuteTime": {
     "end_time": "2024-08-09T13:34:12.283113Z",
     "start_time": "2024-08-09T13:34:12.244816Z"
    }
   },
   "cell_type": "code",
   "source": [
    "from dotenv import load_dotenv\n",
    "\n",
    "load_dotenv()"
   ],
   "id": "224f4a373bb9cc88",
   "outputs": [
    {
     "data": {
      "text/plain": [
       "True"
      ]
     },
     "execution_count": 45,
     "metadata": {},
     "output_type": "execute_result"
    }
   ],
   "execution_count": 45
  },
  {
   "metadata": {
    "ExecuteTime": {
     "end_time": "2024-08-08T11:50:28.782643Z",
     "start_time": "2024-08-08T11:50:28.768644Z"
    }
   },
   "cell_type": "code",
   "source": "os.getenv(\"USER_NAME\")",
   "id": "11beb1c023c010bc",
   "outputs": [
    {
     "data": {
      "text/plain": [
       "'root'"
      ]
     },
     "execution_count": 31,
     "metadata": {},
     "output_type": "execute_result"
    }
   ],
   "execution_count": 31
  },
  {
   "metadata": {
    "ExecuteTime": {
     "end_time": "2024-08-08T08:42:05.232214Z",
     "start_time": "2024-08-08T08:41:59.485824Z"
    }
   },
   "cell_type": "code",
   "source": "from youtube_translator.model import download_audio",
   "id": "318ec7c84902a8e9",
   "outputs": [],
   "execution_count": 3
  },
  {
   "metadata": {
    "ExecuteTime": {
     "end_time": "2024-08-08T09:06:38.708178Z",
     "start_time": "2024-08-08T09:06:21.189020Z"
    }
   },
   "cell_type": "code",
   "source": "path_new = download_audio('https://www.youtube.com/watch?v=LGXSPMfwqcs')",
   "id": "853021360df77b6e",
   "outputs": [
    {
     "name": "stdout",
     "output_type": "stream",
     "text": [
      "[youtube] Extracting URL: https://www.youtube.com/watch?v=LGXSPMfwqcs\n",
      "[youtube] LGXSPMfwqcs: Downloading webpage\n",
      "[youtube] LGXSPMfwqcs: Downloading ios player API JSON\n",
      "[youtube] LGXSPMfwqcs: Downloading web creator player API JSON\n",
      "[youtube] LGXSPMfwqcs: Downloading m3u8 information\n",
      "[info] LGXSPMfwqcs: Downloading 1 format(s): 251\n",
      "[download] Destination: Girlfriend ｜ Stand up Comedy ｜ Aaditya Kulshreshth aka Kullu [LGXSPMfwqcs].webm\n",
      "[download] 100% of    9.37MiB in 00:00:00 at 17.50MiB/s  \n",
      "[ExtractAudio] Destination: Girlfriend ｜ Stand up Comedy ｜ Aaditya Kulshreshth aka Kullu [LGXSPMfwqcs].mp3\n",
      "Deleting original file Girlfriend ｜ Stand up Comedy ｜ Aaditya Kulshreshth aka Kullu [LGXSPMfwqcs].webm (pass -k to keep)\n"
     ]
    }
   ],
   "execution_count": 9
  },
  {
   "metadata": {
    "ExecuteTime": {
     "end_time": "2024-08-08T09:06:50.212355Z",
     "start_time": "2024-08-08T09:06:50.187370Z"
    }
   },
   "cell_type": "code",
   "source": "path_new",
   "id": "77c7ceb0dce6cc",
   "outputs": [
    {
     "data": {
      "text/plain": [
       "0"
      ]
     },
     "execution_count": 10,
     "metadata": {},
     "output_type": "execute_result"
    }
   ],
   "execution_count": 10
  },
  {
   "metadata": {
    "ExecuteTime": {
     "end_time": "2024-08-07T16:59:46.960894Z",
     "start_time": "2024-08-07T16:59:46.947342Z"
    }
   },
   "cell_type": "code",
   "source": "path_new",
   "id": "d1dbc5c8bcaeacdf",
   "outputs": [],
   "execution_count": 20
  },
  {
   "metadata": {
    "ExecuteTime": {
     "end_time": "2024-08-08T09:04:16.831871Z",
     "start_time": "2024-08-08T09:04:16.723680Z"
    }
   },
   "cell_type": "code",
   "source": "os.system('ffmpeg -i ' + os.path.join(os.getcwd(), 'data',) + '.mp4')",
   "id": "235fc769df90835b",
   "outputs": [
    {
     "data": {
      "text/plain": [
       "-2"
      ]
     },
     "execution_count": 7,
     "metadata": {},
     "output_type": "execute_result"
    }
   ],
   "execution_count": 7
  },
  {
   "metadata": {
    "ExecuteTime": {
     "end_time": "2024-08-07T16:40:51.381823Z",
     "start_time": "2024-08-07T16:40:49.984053Z"
    }
   },
   "cell_type": "code",
   "source": [
    ",from pytube import YouTube\n",
    "from moviepy.editor import VideoFileClip\n",
    "import os\n",
    "\n",
    "def download_audio(youtube_url, output_path=os.getcwd()):\n",
    "    # Download the video using pytube\n",
    "    yt = YouTube(youtube_url)\n",
    "    video_stream = yt.streams.filter(only_audio=True).first()\n",
    "    \n",
    "    # Download the video file\n",
    "    download_path = video_stream.download()\n",
    "    \n",
    "    # Extract the audio using moviepy\n",
    "    video_clip = VideoFileClip(download_path)\n",
    "    audio_clip = video_clip.audio\n",
    "    audio_clip.write_audiofile(output_path)\n",
    "    \n",
    "    # Close the clips\n",
    "    audio_clip.close()\n",
    "    video_clip.close()\n",
    "    \n",
    "    # Remove the downloaded video file\n",
    "    os.remove(download_path)\n",
    "\n",
    "    print(f'Audio downloaded and saved as {output_path}')\n",
    "\n",
    "# Example usage\n",
    "download_audio('https://www.youtube.com/watch?v=87-Zue_3gMQ')"
   ],
   "id": "e8d1149272ff5d45",
   "outputs": [
    {
     "ename": "HTTPError",
     "evalue": "HTTP Error 400: Bad Request",
     "output_type": "error",
     "traceback": [
      "\u001B[1;31m---------------------------------------------------------------------------\u001B[0m",
      "\u001B[1;31mHTTPError\u001B[0m                                 Traceback (most recent call last)",
      "Cell \u001B[1;32mIn[12], line 28\u001B[0m\n\u001B[0;32m     25\u001B[0m     \u001B[38;5;28mprint\u001B[39m(\u001B[38;5;124mf\u001B[39m\u001B[38;5;124m'\u001B[39m\u001B[38;5;124mAudio downloaded and saved as \u001B[39m\u001B[38;5;132;01m{\u001B[39;00moutput_path\u001B[38;5;132;01m}\u001B[39;00m\u001B[38;5;124m'\u001B[39m)\n\u001B[0;32m     27\u001B[0m \u001B[38;5;66;03m# Example usage\u001B[39;00m\n\u001B[1;32m---> 28\u001B[0m \u001B[43mdownload_audio\u001B[49m\u001B[43m(\u001B[49m\u001B[38;5;124;43m'\u001B[39;49m\u001B[38;5;124;43mhttps://www.youtube.com/watch?v=87-Zue_3gMQ\u001B[39;49m\u001B[38;5;124;43m'\u001B[39;49m\u001B[43m)\u001B[49m\n",
      "Cell \u001B[1;32mIn[12], line 8\u001B[0m, in \u001B[0;36mdownload_audio\u001B[1;34m(youtube_url, output_path)\u001B[0m\n\u001B[0;32m      5\u001B[0m \u001B[38;5;28;01mdef\u001B[39;00m \u001B[38;5;21mdownload_audio\u001B[39m(youtube_url, output_path\u001B[38;5;241m=\u001B[39mos\u001B[38;5;241m.\u001B[39mgetcwd()):\n\u001B[0;32m      6\u001B[0m     \u001B[38;5;66;03m# Download the video using pytube\u001B[39;00m\n\u001B[0;32m      7\u001B[0m     yt \u001B[38;5;241m=\u001B[39m YouTube(youtube_url)\n\u001B[1;32m----> 8\u001B[0m     video_stream \u001B[38;5;241m=\u001B[39m \u001B[43myt\u001B[49m\u001B[38;5;241;43m.\u001B[39;49m\u001B[43mstreams\u001B[49m\u001B[38;5;241m.\u001B[39mfilter(only_audio\u001B[38;5;241m=\u001B[39m\u001B[38;5;28;01mTrue\u001B[39;00m)\u001B[38;5;241m.\u001B[39mfirst()\n\u001B[0;32m     10\u001B[0m     \u001B[38;5;66;03m# Download the video file\u001B[39;00m\n\u001B[0;32m     11\u001B[0m     download_path \u001B[38;5;241m=\u001B[39m video_stream\u001B[38;5;241m.\u001B[39mdownload()\n",
      "File \u001B[1;32m~\\anaconda3\\envs\\diksha\\lib\\site-packages\\pytube\\__main__.py:296\u001B[0m, in \u001B[0;36mYouTube.streams\u001B[1;34m(self)\u001B[0m\n\u001B[0;32m    291\u001B[0m \u001B[38;5;250m\u001B[39m\u001B[38;5;124;03m\"\"\"Interface to query both adaptive (DASH) and progressive streams.\u001B[39;00m\n\u001B[0;32m    292\u001B[0m \n\u001B[0;32m    293\u001B[0m \u001B[38;5;124;03m:rtype: :class:`StreamQuery <StreamQuery>`.\u001B[39;00m\n\u001B[0;32m    294\u001B[0m \u001B[38;5;124;03m\"\"\"\u001B[39;00m\n\u001B[0;32m    295\u001B[0m \u001B[38;5;28mself\u001B[39m\u001B[38;5;241m.\u001B[39mcheck_availability()\n\u001B[1;32m--> 296\u001B[0m \u001B[38;5;28;01mreturn\u001B[39;00m StreamQuery(\u001B[38;5;28;43mself\u001B[39;49m\u001B[38;5;241;43m.\u001B[39;49m\u001B[43mfmt_streams\u001B[49m)\n",
      "File \u001B[1;32m~\\anaconda3\\envs\\diksha\\lib\\site-packages\\pytube\\__main__.py:176\u001B[0m, in \u001B[0;36mYouTube.fmt_streams\u001B[1;34m(self)\u001B[0m\n\u001B[0;32m    172\u001B[0m     \u001B[38;5;28;01mreturn\u001B[39;00m \u001B[38;5;28mself\u001B[39m\u001B[38;5;241m.\u001B[39m_fmt_streams\n\u001B[0;32m    174\u001B[0m \u001B[38;5;28mself\u001B[39m\u001B[38;5;241m.\u001B[39m_fmt_streams \u001B[38;5;241m=\u001B[39m []\n\u001B[1;32m--> 176\u001B[0m stream_manifest \u001B[38;5;241m=\u001B[39m extract\u001B[38;5;241m.\u001B[39mapply_descrambler(\u001B[38;5;28;43mself\u001B[39;49m\u001B[38;5;241;43m.\u001B[39;49m\u001B[43mstreaming_data\u001B[49m)\n\u001B[0;32m    178\u001B[0m \u001B[38;5;66;03m# If the cached js doesn't work, try fetching a new js file\u001B[39;00m\n\u001B[0;32m    179\u001B[0m \u001B[38;5;66;03m# https://github.com/pytube/pytube/issues/1054\u001B[39;00m\n\u001B[0;32m    180\u001B[0m \u001B[38;5;28;01mtry\u001B[39;00m:\n",
      "File \u001B[1;32m~\\anaconda3\\envs\\diksha\\lib\\site-packages\\pytube\\__main__.py:160\u001B[0m, in \u001B[0;36mYouTube.streaming_data\u001B[1;34m(self)\u001B[0m\n\u001B[0;32m    158\u001B[0m     \u001B[38;5;28;01mreturn\u001B[39;00m \u001B[38;5;28mself\u001B[39m\u001B[38;5;241m.\u001B[39mvid_info[\u001B[38;5;124m'\u001B[39m\u001B[38;5;124mstreamingData\u001B[39m\u001B[38;5;124m'\u001B[39m]\n\u001B[0;32m    159\u001B[0m \u001B[38;5;28;01melse\u001B[39;00m:\n\u001B[1;32m--> 160\u001B[0m     \u001B[38;5;28;43mself\u001B[39;49m\u001B[38;5;241;43m.\u001B[39;49m\u001B[43mbypass_age_gate\u001B[49m\u001B[43m(\u001B[49m\u001B[43m)\u001B[49m\n\u001B[0;32m    161\u001B[0m     \u001B[38;5;28;01mreturn\u001B[39;00m \u001B[38;5;28mself\u001B[39m\u001B[38;5;241m.\u001B[39mvid_info[\u001B[38;5;124m'\u001B[39m\u001B[38;5;124mstreamingData\u001B[39m\u001B[38;5;124m'\u001B[39m]\n",
      "File \u001B[1;32m~\\anaconda3\\envs\\diksha\\lib\\site-packages\\pytube\\__main__.py:257\u001B[0m, in \u001B[0;36mYouTube.bypass_age_gate\u001B[1;34m(self)\u001B[0m\n\u001B[0;32m    251\u001B[0m \u001B[38;5;250m\u001B[39m\u001B[38;5;124;03m\"\"\"Attempt to update the vid_info by bypassing the age gate.\"\"\"\u001B[39;00m\n\u001B[0;32m    252\u001B[0m innertube \u001B[38;5;241m=\u001B[39m InnerTube(\n\u001B[0;32m    253\u001B[0m     client\u001B[38;5;241m=\u001B[39m\u001B[38;5;124m'\u001B[39m\u001B[38;5;124mANDROID_EMBED\u001B[39m\u001B[38;5;124m'\u001B[39m,\n\u001B[0;32m    254\u001B[0m     use_oauth\u001B[38;5;241m=\u001B[39m\u001B[38;5;28mself\u001B[39m\u001B[38;5;241m.\u001B[39muse_oauth,\n\u001B[0;32m    255\u001B[0m     allow_cache\u001B[38;5;241m=\u001B[39m\u001B[38;5;28mself\u001B[39m\u001B[38;5;241m.\u001B[39mallow_oauth_cache\n\u001B[0;32m    256\u001B[0m )\n\u001B[1;32m--> 257\u001B[0m innertube_response \u001B[38;5;241m=\u001B[39m \u001B[43minnertube\u001B[49m\u001B[38;5;241;43m.\u001B[39;49m\u001B[43mplayer\u001B[49m\u001B[43m(\u001B[49m\u001B[38;5;28;43mself\u001B[39;49m\u001B[38;5;241;43m.\u001B[39;49m\u001B[43mvideo_id\u001B[49m\u001B[43m)\u001B[49m\n\u001B[0;32m    259\u001B[0m playability_status \u001B[38;5;241m=\u001B[39m innertube_response[\u001B[38;5;124m'\u001B[39m\u001B[38;5;124mplayabilityStatus\u001B[39m\u001B[38;5;124m'\u001B[39m]\u001B[38;5;241m.\u001B[39mget(\u001B[38;5;124m'\u001B[39m\u001B[38;5;124mstatus\u001B[39m\u001B[38;5;124m'\u001B[39m, \u001B[38;5;28;01mNone\u001B[39;00m)\n\u001B[0;32m    261\u001B[0m \u001B[38;5;66;03m# If we still can't access the video, raise an exception\u001B[39;00m\n\u001B[0;32m    262\u001B[0m \u001B[38;5;66;03m# (tier 3 age restriction)\u001B[39;00m\n",
      "File \u001B[1;32m~\\anaconda3\\envs\\diksha\\lib\\site-packages\\pytube\\innertube.py:448\u001B[0m, in \u001B[0;36mInnerTube.player\u001B[1;34m(self, video_id)\u001B[0m\n\u001B[0;32m    444\u001B[0m query \u001B[38;5;241m=\u001B[39m {\n\u001B[0;32m    445\u001B[0m     \u001B[38;5;124m'\u001B[39m\u001B[38;5;124mvideoId\u001B[39m\u001B[38;5;124m'\u001B[39m: video_id,\n\u001B[0;32m    446\u001B[0m }\n\u001B[0;32m    447\u001B[0m query\u001B[38;5;241m.\u001B[39mupdate(\u001B[38;5;28mself\u001B[39m\u001B[38;5;241m.\u001B[39mbase_params)\n\u001B[1;32m--> 448\u001B[0m \u001B[38;5;28;01mreturn\u001B[39;00m \u001B[38;5;28;43mself\u001B[39;49m\u001B[38;5;241;43m.\u001B[39;49m\u001B[43m_call_api\u001B[49m\u001B[43m(\u001B[49m\u001B[43mendpoint\u001B[49m\u001B[43m,\u001B[49m\u001B[43m \u001B[49m\u001B[43mquery\u001B[49m\u001B[43m,\u001B[49m\u001B[43m \u001B[49m\u001B[38;5;28;43mself\u001B[39;49m\u001B[38;5;241;43m.\u001B[39;49m\u001B[43mbase_data\u001B[49m\u001B[43m)\u001B[49m\n",
      "File \u001B[1;32m~\\anaconda3\\envs\\diksha\\lib\\site-packages\\pytube\\innertube.py:390\u001B[0m, in \u001B[0;36mInnerTube._call_api\u001B[1;34m(self, endpoint, query, data)\u001B[0m\n\u001B[0;32m    386\u001B[0m         headers[\u001B[38;5;124m'\u001B[39m\u001B[38;5;124mAuthorization\u001B[39m\u001B[38;5;124m'\u001B[39m] \u001B[38;5;241m=\u001B[39m \u001B[38;5;124mf\u001B[39m\u001B[38;5;124m'\u001B[39m\u001B[38;5;124mBearer \u001B[39m\u001B[38;5;132;01m{\u001B[39;00m\u001B[38;5;28mself\u001B[39m\u001B[38;5;241m.\u001B[39maccess_token\u001B[38;5;132;01m}\u001B[39;00m\u001B[38;5;124m'\u001B[39m\n\u001B[0;32m    388\u001B[0m headers\u001B[38;5;241m.\u001B[39mupdate(\u001B[38;5;28mself\u001B[39m\u001B[38;5;241m.\u001B[39mheader)\n\u001B[1;32m--> 390\u001B[0m response \u001B[38;5;241m=\u001B[39m \u001B[43mrequest\u001B[49m\u001B[38;5;241;43m.\u001B[39;49m\u001B[43m_execute_request\u001B[49m\u001B[43m(\u001B[49m\n\u001B[0;32m    391\u001B[0m \u001B[43m    \u001B[49m\u001B[43mendpoint_url\u001B[49m\u001B[43m,\u001B[49m\n\u001B[0;32m    392\u001B[0m \u001B[43m    \u001B[49m\u001B[38;5;124;43m'\u001B[39;49m\u001B[38;5;124;43mPOST\u001B[39;49m\u001B[38;5;124;43m'\u001B[39;49m\u001B[43m,\u001B[49m\n\u001B[0;32m    393\u001B[0m \u001B[43m    \u001B[49m\u001B[43mheaders\u001B[49m\u001B[38;5;241;43m=\u001B[39;49m\u001B[43mheaders\u001B[49m\u001B[43m,\u001B[49m\n\u001B[0;32m    394\u001B[0m \u001B[43m    \u001B[49m\u001B[43mdata\u001B[49m\u001B[38;5;241;43m=\u001B[39;49m\u001B[43mdata\u001B[49m\n\u001B[0;32m    395\u001B[0m \u001B[43m\u001B[49m\u001B[43m)\u001B[49m\n\u001B[0;32m    396\u001B[0m \u001B[38;5;28;01mreturn\u001B[39;00m json\u001B[38;5;241m.\u001B[39mloads(response\u001B[38;5;241m.\u001B[39mread())\n",
      "File \u001B[1;32m~\\anaconda3\\envs\\diksha\\lib\\site-packages\\pytube\\request.py:37\u001B[0m, in \u001B[0;36m_execute_request\u001B[1;34m(url, method, headers, data, timeout)\u001B[0m\n\u001B[0;32m     35\u001B[0m \u001B[38;5;28;01melse\u001B[39;00m:\n\u001B[0;32m     36\u001B[0m     \u001B[38;5;28;01mraise\u001B[39;00m \u001B[38;5;167;01mValueError\u001B[39;00m(\u001B[38;5;124m\"\u001B[39m\u001B[38;5;124mInvalid URL\u001B[39m\u001B[38;5;124m\"\u001B[39m)\n\u001B[1;32m---> 37\u001B[0m \u001B[38;5;28;01mreturn\u001B[39;00m \u001B[43murlopen\u001B[49m\u001B[43m(\u001B[49m\u001B[43mrequest\u001B[49m\u001B[43m,\u001B[49m\u001B[43m \u001B[49m\u001B[43mtimeout\u001B[49m\u001B[38;5;241;43m=\u001B[39;49m\u001B[43mtimeout\u001B[49m\u001B[43m)\u001B[49m\n",
      "File \u001B[1;32m~\\anaconda3\\envs\\diksha\\lib\\urllib\\request.py:216\u001B[0m, in \u001B[0;36murlopen\u001B[1;34m(url, data, timeout, cafile, capath, cadefault, context)\u001B[0m\n\u001B[0;32m    214\u001B[0m \u001B[38;5;28;01melse\u001B[39;00m:\n\u001B[0;32m    215\u001B[0m     opener \u001B[38;5;241m=\u001B[39m _opener\n\u001B[1;32m--> 216\u001B[0m \u001B[38;5;28;01mreturn\u001B[39;00m \u001B[43mopener\u001B[49m\u001B[38;5;241;43m.\u001B[39;49m\u001B[43mopen\u001B[49m\u001B[43m(\u001B[49m\u001B[43murl\u001B[49m\u001B[43m,\u001B[49m\u001B[43m \u001B[49m\u001B[43mdata\u001B[49m\u001B[43m,\u001B[49m\u001B[43m \u001B[49m\u001B[43mtimeout\u001B[49m\u001B[43m)\u001B[49m\n",
      "File \u001B[1;32m~\\anaconda3\\envs\\diksha\\lib\\urllib\\request.py:525\u001B[0m, in \u001B[0;36mOpenerDirector.open\u001B[1;34m(self, fullurl, data, timeout)\u001B[0m\n\u001B[0;32m    523\u001B[0m \u001B[38;5;28;01mfor\u001B[39;00m processor \u001B[38;5;129;01min\u001B[39;00m \u001B[38;5;28mself\u001B[39m\u001B[38;5;241m.\u001B[39mprocess_response\u001B[38;5;241m.\u001B[39mget(protocol, []):\n\u001B[0;32m    524\u001B[0m     meth \u001B[38;5;241m=\u001B[39m \u001B[38;5;28mgetattr\u001B[39m(processor, meth_name)\n\u001B[1;32m--> 525\u001B[0m     response \u001B[38;5;241m=\u001B[39m \u001B[43mmeth\u001B[49m\u001B[43m(\u001B[49m\u001B[43mreq\u001B[49m\u001B[43m,\u001B[49m\u001B[43m \u001B[49m\u001B[43mresponse\u001B[49m\u001B[43m)\u001B[49m\n\u001B[0;32m    527\u001B[0m \u001B[38;5;28;01mreturn\u001B[39;00m response\n",
      "File \u001B[1;32m~\\anaconda3\\envs\\diksha\\lib\\urllib\\request.py:634\u001B[0m, in \u001B[0;36mHTTPErrorProcessor.http_response\u001B[1;34m(self, request, response)\u001B[0m\n\u001B[0;32m    631\u001B[0m \u001B[38;5;66;03m# According to RFC 2616, \"2xx\" code indicates that the client's\u001B[39;00m\n\u001B[0;32m    632\u001B[0m \u001B[38;5;66;03m# request was successfully received, understood, and accepted.\u001B[39;00m\n\u001B[0;32m    633\u001B[0m \u001B[38;5;28;01mif\u001B[39;00m \u001B[38;5;129;01mnot\u001B[39;00m (\u001B[38;5;241m200\u001B[39m \u001B[38;5;241m<\u001B[39m\u001B[38;5;241m=\u001B[39m code \u001B[38;5;241m<\u001B[39m \u001B[38;5;241m300\u001B[39m):\n\u001B[1;32m--> 634\u001B[0m     response \u001B[38;5;241m=\u001B[39m \u001B[38;5;28;43mself\u001B[39;49m\u001B[38;5;241;43m.\u001B[39;49m\u001B[43mparent\u001B[49m\u001B[38;5;241;43m.\u001B[39;49m\u001B[43merror\u001B[49m\u001B[43m(\u001B[49m\n\u001B[0;32m    635\u001B[0m \u001B[43m        \u001B[49m\u001B[38;5;124;43m'\u001B[39;49m\u001B[38;5;124;43mhttp\u001B[39;49m\u001B[38;5;124;43m'\u001B[39;49m\u001B[43m,\u001B[49m\u001B[43m \u001B[49m\u001B[43mrequest\u001B[49m\u001B[43m,\u001B[49m\u001B[43m \u001B[49m\u001B[43mresponse\u001B[49m\u001B[43m,\u001B[49m\u001B[43m \u001B[49m\u001B[43mcode\u001B[49m\u001B[43m,\u001B[49m\u001B[43m \u001B[49m\u001B[43mmsg\u001B[49m\u001B[43m,\u001B[49m\u001B[43m \u001B[49m\u001B[43mhdrs\u001B[49m\u001B[43m)\u001B[49m\n\u001B[0;32m    637\u001B[0m \u001B[38;5;28;01mreturn\u001B[39;00m response\n",
      "File \u001B[1;32m~\\anaconda3\\envs\\diksha\\lib\\urllib\\request.py:563\u001B[0m, in \u001B[0;36mOpenerDirector.error\u001B[1;34m(self, proto, *args)\u001B[0m\n\u001B[0;32m    561\u001B[0m \u001B[38;5;28;01mif\u001B[39;00m http_err:\n\u001B[0;32m    562\u001B[0m     args \u001B[38;5;241m=\u001B[39m (\u001B[38;5;28mdict\u001B[39m, \u001B[38;5;124m'\u001B[39m\u001B[38;5;124mdefault\u001B[39m\u001B[38;5;124m'\u001B[39m, \u001B[38;5;124m'\u001B[39m\u001B[38;5;124mhttp_error_default\u001B[39m\u001B[38;5;124m'\u001B[39m) \u001B[38;5;241m+\u001B[39m orig_args\n\u001B[1;32m--> 563\u001B[0m     \u001B[38;5;28;01mreturn\u001B[39;00m \u001B[38;5;28;43mself\u001B[39;49m\u001B[38;5;241;43m.\u001B[39;49m\u001B[43m_call_chain\u001B[49m\u001B[43m(\u001B[49m\u001B[38;5;241;43m*\u001B[39;49m\u001B[43margs\u001B[49m\u001B[43m)\u001B[49m\n",
      "File \u001B[1;32m~\\anaconda3\\envs\\diksha\\lib\\urllib\\request.py:496\u001B[0m, in \u001B[0;36mOpenerDirector._call_chain\u001B[1;34m(self, chain, kind, meth_name, *args)\u001B[0m\n\u001B[0;32m    494\u001B[0m \u001B[38;5;28;01mfor\u001B[39;00m handler \u001B[38;5;129;01min\u001B[39;00m handlers:\n\u001B[0;32m    495\u001B[0m     func \u001B[38;5;241m=\u001B[39m \u001B[38;5;28mgetattr\u001B[39m(handler, meth_name)\n\u001B[1;32m--> 496\u001B[0m     result \u001B[38;5;241m=\u001B[39m \u001B[43mfunc\u001B[49m\u001B[43m(\u001B[49m\u001B[38;5;241;43m*\u001B[39;49m\u001B[43margs\u001B[49m\u001B[43m)\u001B[49m\n\u001B[0;32m    497\u001B[0m     \u001B[38;5;28;01mif\u001B[39;00m result \u001B[38;5;129;01mis\u001B[39;00m \u001B[38;5;129;01mnot\u001B[39;00m \u001B[38;5;28;01mNone\u001B[39;00m:\n\u001B[0;32m    498\u001B[0m         \u001B[38;5;28;01mreturn\u001B[39;00m result\n",
      "File \u001B[1;32m~\\anaconda3\\envs\\diksha\\lib\\urllib\\request.py:643\u001B[0m, in \u001B[0;36mHTTPDefaultErrorHandler.http_error_default\u001B[1;34m(self, req, fp, code, msg, hdrs)\u001B[0m\n\u001B[0;32m    642\u001B[0m \u001B[38;5;28;01mdef\u001B[39;00m \u001B[38;5;21mhttp_error_default\u001B[39m(\u001B[38;5;28mself\u001B[39m, req, fp, code, msg, hdrs):\n\u001B[1;32m--> 643\u001B[0m     \u001B[38;5;28;01mraise\u001B[39;00m HTTPError(req\u001B[38;5;241m.\u001B[39mfull_url, code, msg, hdrs, fp)\n",
      "\u001B[1;31mHTTPError\u001B[0m: HTTP Error 400: Bad Request"
     ]
    }
   ],
   "execution_count": 12
  },
  {
   "metadata": {
    "ExecuteTime": {
     "end_time": "2024-08-07T16:41:56.355515Z",
     "start_time": "2024-08-07T16:41:54.960221Z"
    }
   },
   "cell_type": "code",
   "source": [
    "\n",
    "\n",
    "def download_audio(youtube_url, output_path='output_audio.mp3'):\n",
    "    try:\n",
    "        # Download the video using pytube\n",
    "        yt = YouTube(youtube_url)\n",
    "        video_stream = yt.streams.filter(only_audio=True).first()\n",
    "        \n",
    "        if not video_stream:\n",
    "            print(\"No audio streams available.\")\n",
    "            return\n",
    "\n",
    "        # Download the video file\n",
    "        download_path = video_stream.download(filename=\"temp_video\")\n",
    "        \n",
    "        # Extract the audio using moviepy\n",
    "        video_clip = AudioFileClip(download_path)\n",
    "        video_clip.write_audiofile(output_path)\n",
    "        \n",
    "        # Close the clips\n",
    "        video_clip.close()\n",
    "        \n",
    "        # Remove the downloaded video file\n",
    "        os.remove(download_path)\n",
    "\n",
    "        print(f'Audio downloaded and saved as {output_path}')\n",
    "    except Exception as e:\n",
    "        print(f\"An error occurred: {e}\")\n",
    "\n",
    "# Example usage\n",
    "download_audio('https://www.youtube.com/watch?v=v_Lf-IB8_vQ')\n"
   ],
   "id": "1250841efa2d318d",
   "outputs": [
    {
     "name": "stdout",
     "output_type": "stream",
     "text": [
      "An error occurred: HTTP Error 400: Bad Request\n"
     ]
    }
   ],
   "execution_count": 13
  },
  {
   "metadata": {
    "ExecuteTime": {
     "end_time": "2024-08-07T16:42:59.199419Z",
     "start_time": "2024-08-07T16:42:57.787418Z"
    }
   },
   "cell_type": "code",
   "source": [
    "from pytube import YouTube\n",
    "from moviepy.editor import AudioFileClip\n",
    "import os\n",
    "\n",
    "def download_audio(youtube_url, output_path='output_audio.mp3'):\n",
    "    try:\n",
    "        # Download the video using pytube\n",
    "        yt = YouTube(youtube_url)\n",
    "        video_stream = yt.streams.filter(only_audio=True).first()\n",
    "        \n",
    "        if not video_stream:\n",
    "            print(\"No audio streams available.\")\n",
    "            return\n",
    "\n",
    "        # Download the video file\n",
    "        download_path = video_stream.download(filename=\"temp_video.mp4\")\n",
    "        \n",
    "        # Extract the audio using moviepy\n",
    "        audio_clip = AudioFileClip(download_path)\n",
    "        audio_clip.write_audiofile(output_path)\n",
    "        \n",
    "        # Close the clips\n",
    "        audio_clip.close()\n",
    "        \n",
    "        # Remove the downloaded video file\n",
    "        os.remove(download_path)\n",
    "\n",
    "        print(f'Audio downloaded and saved as {output_path}')\n",
    "    except Exception as e:\n",
    "        print(f\"An error occurred: {e}\")\n",
    "\n",
    "# Example usage\n",
    "download_audio('https://www.youtube.com/watch?v=v_Lf-IB8_vQ')\n"
   ],
   "id": "2f022ed968fcf337",
   "outputs": [
    {
     "name": "stdout",
     "output_type": "stream",
     "text": [
      "An error occurred: HTTP Error 400: Bad Request\n"
     ]
    }
   ],
   "execution_count": 14
  },
  {
   "metadata": {},
   "cell_type": "code",
   "outputs": [],
   "execution_count": null,
   "source": "os.path.join(os.getcwd(), 'wav_files.wav', )",
   "id": "b68a47c59e4a944f"
  },
  {
   "metadata": {
    "ExecuteTime": {
     "end_time": "2024-08-08T16:14:39.861918Z",
     "start_time": "2024-08-08T16:14:39.840908Z"
    }
   },
   "cell_type": "code",
   "source": [
    "import yt_dlp\n",
    "def download_audio1(youtube_url, output_dir):\n",
    "    ydl_opts = {\n",
    "        'format': 'bestaudio/best',\n",
    "        'extractaudio': True,\n",
    "        'audioformat': 'mp3',\n",
    "        'outtmpl': os.path.join(output_dir, '%(title)s.%(ext)s'),\n",
    "        'noplaylist': True  # Download only the single video\n",
    "    }\n",
    "\n",
    "    with yt_dlp.YoutubeDL(ydl_opts) as ydl:\n",
    "        info_dict = ydl.extract_info(youtube_url, download=True)\n",
    "        filename = ydl.prepare_filename(info_dict)\n",
    "        return filename"
   ],
   "id": "ad25a07d7d5ccd28",
   "outputs": [],
   "execution_count": 38
  },
  {
   "metadata": {
    "ExecuteTime": {
     "end_time": "2024-08-08T16:19:06.708374Z",
     "start_time": "2024-08-08T16:19:01.585060Z"
    }
   },
   "cell_type": "code",
   "source": "download_audio1('https://www.youtube.com/watch?v=v_Lf-IB8_vQ', os.path.join( os.getcwd(), 'audio' ) )",
   "id": "de999ee797481dd8",
   "outputs": [
    {
     "name": "stdout",
     "output_type": "stream",
     "text": [
      "[youtube] Extracting URL: https://www.youtube.com/watch?v=v_Lf-IB8_vQ\n",
      "[youtube] v_Lf-IB8_vQ: Downloading webpage\n",
      "[youtube] v_Lf-IB8_vQ: Downloading ios player API JSON\n",
      "[youtube] v_Lf-IB8_vQ: Downloading web creator player API JSON\n",
      "[youtube] v_Lf-IB8_vQ: Downloading m3u8 information\n",
      "[info] v_Lf-IB8_vQ: Downloading 1 format(s): 251\n",
      "[download] Destination: C:\\Users\\savit\\PycharmProjects\\Youtube_translator\\wav_files.wav\\Bangladesh Crisis News ： Sheikh Hasina को शरण देने पर India पर बौखलाया बांग्लादेश! PM Modi.webm\n",
      "[download] 100% of    3.44MiB in 00:00:00 at 10.09MiB/s  \n"
     ]
    },
    {
     "data": {
      "text/plain": [
       "'C:\\\\Users\\\\savit\\\\PycharmProjects\\\\Youtube_translator\\\\wav_files.wav\\\\Bangladesh Crisis News ： Sheikh Hasina को शरण देने पर India पर बौखलाया बांग्लादेश! PM Modi.webm'"
      ]
     },
     "execution_count": 44,
     "metadata": {},
     "output_type": "execute_result"
    }
   ],
   "execution_count": 44
  },
  {
   "metadata": {
    "ExecuteTime": {
     "end_time": "2024-08-08T16:18:38.953516Z",
     "start_time": "2024-08-08T16:18:38.928016Z"
    }
   },
   "cell_type": "code",
   "source": "os.makedirs(os.getcwd(), exist_ok=True)",
   "id": "d251d3c3d1e30722",
   "outputs": [],
   "execution_count": 42
  },
  {
   "metadata": {},
   "cell_type": "code",
   "outputs": [],
   "execution_count": null,
   "source": "",
   "id": "6c108fe4e5eb7c90"
  }
 ],
 "metadata": {
  "kernelspec": {
   "display_name": "Python 3",
   "language": "python",
   "name": "python3"
  },
  "language_info": {
   "codemirror_mode": {
    "name": "ipython",
    "version": 2
   },
   "file_extension": ".py",
   "mimetype": "text/x-python",
   "name": "python",
   "nbconvert_exporter": "python",
   "pygments_lexer": "ipython2",
   "version": "2.7.6"
  }
 },
 "nbformat": 4,
 "nbformat_minor": 5
}
